{
 "cells": [
  {
   "cell_type": "markdown",
   "metadata": {},
   "source": [
    "# Preprocess cfDNA fragments from Snyder cfDNA paper\n",
    "\n",
    "\n",
    "data downloaded from: FinaleDB\n",
    "\n",
    "\n",
    "From these fragment files you will need to \n",
    "1) filter out zeros \n",
    "\n",
    "cat EE86257.hg38.frag.tsv | awk '!($4 == 0)'\n",
    "\n",
    "\n",
    "2) reformat to expected fragment format  \n",
    "\n",
    "awk '{ printf(\"%s\\t%s\\t%s\\tBRCA_IC35\\t%s\\n\", $1, $2, $3, $4, $5) }' EE86257.hg38.frag_filt.tsv > EE86257.hg38.frag_filt_format.tsv\n",
    "\n",
    "3) bgzip EE86257.hg38.frag_filt_format.tsv\n",
    "\n",
    "4) tabix -p bed EE86257.hg38.frag_filt_format.tsv.gz\n"
   ]
  },
  {
   "cell_type": "code",
   "execution_count": 1,
   "metadata": {},
   "outputs": [
    {
     "name": "stderr",
     "output_type": "stream",
     "text": [
      "2024-04-18 21:00:52.646673: I tensorflow/core/util/port.cc:110] oneDNN custom operations are on. You may see slightly different numerical results due to floating-point round-off errors from different computation orders. To turn them off, set the environment variable `TF_ENABLE_ONEDNN_OPTS=0`.\n",
      "2024-04-18 21:00:52.707111: I tensorflow/tsl/cuda/cudart_stub.cc:28] Could not find cuda drivers on your machine, GPU will not be used.\n",
      "2024-04-18 21:00:53.097316: I tensorflow/tsl/cuda/cudart_stub.cc:28] Could not find cuda drivers on your machine, GPU will not be used.\n",
      "2024-04-18 21:00:53.099355: I tensorflow/core/platform/cpu_feature_guard.cc:182] This TensorFlow binary is optimized to use available CPU instructions in performance-critical operations.\n",
      "To enable the following instructions: AVX2 AVX512F AVX512_VNNI AVX512_BF16 FMA, in other operations, rebuild TensorFlow with the appropriate compiler flags.\n",
      "2024-04-18 21:00:53.831343: W tensorflow/compiler/tf2tensorrt/utils/py_utils.cc:38] TF-TRT Warning: Could not find TensorRT\n"
     ]
    }
   ],
   "source": [
    "# imports\n",
    "\n",
    "import os\n",
    "\n",
    "import numpy as np\n",
    "import pandas as pd\n",
    "import scanpy as sc\n",
    "import anndata as ad\n",
    "\n",
    "import muon as mu\n",
    "from muon import atac as ac\n"
   ]
  },
  {
   "cell_type": "code",
   "execution_count": 4,
   "metadata": {},
   "outputs": [
    {
     "data": {
      "text/html": [
       "<div>\n",
       "<style scoped>\n",
       "    .dataframe tbody tr th:only-of-type {\n",
       "        vertical-align: middle;\n",
       "    }\n",
       "\n",
       "    .dataframe tbody tr th {\n",
       "        vertical-align: top;\n",
       "    }\n",
       "\n",
       "    .dataframe thead th {\n",
       "        text-align: right;\n",
       "    }\n",
       "</style>\n",
       "<table border=\"1\" class=\"dataframe\">\n",
       "  <thead>\n",
       "    <tr style=\"text-align: right;\">\n",
       "      <th></th>\n",
       "      <th>Chromosome</th>\n",
       "      <th>Start</th>\n",
       "      <th>End</th>\n",
       "    </tr>\n",
       "  </thead>\n",
       "  <tbody>\n",
       "    <tr>\n",
       "      <th>0</th>\n",
       "      <td>chr1</td>\n",
       "      <td>17238</td>\n",
       "      <td>17739</td>\n",
       "    </tr>\n",
       "    <tr>\n",
       "      <th>20</th>\n",
       "      <td>chr1</td>\n",
       "      <td>817118</td>\n",
       "      <td>817619</td>\n",
       "    </tr>\n",
       "    <tr>\n",
       "      <th>24</th>\n",
       "      <td>chr1</td>\n",
       "      <td>826524</td>\n",
       "      <td>827025</td>\n",
       "    </tr>\n",
       "    <tr>\n",
       "      <th>25</th>\n",
       "      <td>chr1</td>\n",
       "      <td>827303</td>\n",
       "      <td>827804</td>\n",
       "    </tr>\n",
       "    <tr>\n",
       "      <th>26</th>\n",
       "      <td>chr1</td>\n",
       "      <td>830679</td>\n",
       "      <td>831180</td>\n",
       "    </tr>\n",
       "    <tr>\n",
       "      <th>...</th>\n",
       "      <td>...</td>\n",
       "      <td>...</td>\n",
       "      <td>...</td>\n",
       "    </tr>\n",
       "    <tr>\n",
       "      <th>562680</th>\n",
       "      <td>chrX</td>\n",
       "      <td>155767443</td>\n",
       "      <td>155767944</td>\n",
       "    </tr>\n",
       "    <tr>\n",
       "      <th>562686</th>\n",
       "      <td>chrX</td>\n",
       "      <td>155880523</td>\n",
       "      <td>155881024</td>\n",
       "    </tr>\n",
       "    <tr>\n",
       "      <th>562687</th>\n",
       "      <td>chrX</td>\n",
       "      <td>155881036</td>\n",
       "      <td>155881537</td>\n",
       "    </tr>\n",
       "    <tr>\n",
       "      <th>562703</th>\n",
       "      <td>chrX</td>\n",
       "      <td>156003787</td>\n",
       "      <td>156004288</td>\n",
       "    </tr>\n",
       "    <tr>\n",
       "      <th>562704</th>\n",
       "      <td>chrX</td>\n",
       "      <td>156005167</td>\n",
       "      <td>156005668</td>\n",
       "    </tr>\n",
       "  </tbody>\n",
       "</table>\n",
       "<p>45782 rows × 3 columns</p>\n",
       "</div>"
      ],
      "text/plain": [
       "       Chromosome      Start        End\n",
       "0            chr1      17238      17739\n",
       "20           chr1     817118     817619\n",
       "24           chr1     826524     827025\n",
       "25           chr1     827303     827804\n",
       "26           chr1     830679     831180\n",
       "...           ...        ...        ...\n",
       "562680       chrX  155767443  155767944\n",
       "562686       chrX  155880523  155881024\n",
       "562687       chrX  155881036  155881537\n",
       "562703       chrX  156003787  156004288\n",
       "562704       chrX  156005167  156005668\n",
       "\n",
       "[45782 rows x 3 columns]"
      ]
     },
     "execution_count": 4,
     "metadata": {},
     "output_type": "execute_result"
    }
   ],
   "source": [
    "# load intermediate files\n",
    "\n",
    "data_path = f\"{os.getcwd()}/../data/\"\n",
    "\n",
    "results_file = f\"{data_path}/cfDNA/cfdna_processed.h5ad\"\n",
    "\n",
    "frag_path =       f\"{data_path}/cfDNA/EE86257.hg38.frag_filt_format_bgzip.tsv.gz\"\n",
    "frag_unzip_path = f\"{data_path}/cfDNA/EE86257.hg38.frag_filt_format.tsv\"\n",
    "\n",
    "# get TCGA regions\n",
    "tcga_file = f\"{data_path}/TCGA/tcga_atac_promoters.h5ad\"\n",
    "tcga_adata = ad.read_h5ad(tcga_file)\n",
    "tcga_adata\n",
    "\n",
    "# get the regions of interest\n",
    "region_df = tcga_adata.var\n",
    "region_df = region_df.iloc[:,0:3]\n",
    "region_df = region_df.rename(columns={\"seqnames\":\"Chromosome\", \"start\":\"Start\", \"end\":\"End\"})\n",
    "region_df\n",
    "\n"
   ]
  },
  {
   "cell_type": "code",
   "execution_count": 3,
   "metadata": {},
   "outputs": [
    {
     "name": "stderr",
     "output_type": "stream",
     "text": [
      "/tmp/ipykernel_1855834/971457061.py:22: FutureWarning: X.dtype being converted to np.float32 from int64. In the next version of anndata (0.9) conversion will not be automatic. Pass dtype explicitly to avoid this warning. Pass `AnnData(X, dtype=X.dtype, ...)` to get the future behavour.\n",
      "  adata = ad.AnnData(adata_X, obs=adata_obs, var=adata_var)\n",
      "/home/natalie/projects/checkouts/buddi_atac/.venv/lib/python3.10/site-packages/anndata/_core/anndata.py:121: ImplicitModificationWarning: Transforming to str index.\n",
      "  warnings.warn(\"Transforming to str index.\", ImplicitModificationWarning)\n"
     ]
    },
    {
     "data": {
      "text/plain": [
       "AnnData object with n_obs × n_vars = 1 × 181832045\n",
       "    obs: 'sample_id'\n",
       "    var: 'Chromosome', 'Start', 'End'"
      ]
     },
     "execution_count": 3,
     "metadata": {},
     "output_type": "execute_result"
    }
   ],
   "source": [
    "with open(frag_unzip_path) as your_data:\n",
    "    adata = pd.read_csv(your_data, delimiter='\\t', header=None)\n",
    "\n",
    "# get the region info and counts\n",
    "adata.columns = [\"Chromosome\", \"Start\", \"End\", \"Sample_id\", \"count\"]\n",
    "samp_id = adata.Sample_id[0]\n",
    "adata_var = adata.iloc[:,0:3]\n",
    "adata_X = pd.DataFrame(adata.iloc[:,4])\n",
    "adata_X.columns = [samp_id]\n",
    "\n",
    "\n",
    "# get the sample info\n",
    "adata_obs = pd.DataFrame({\"sample_id\": adata_X.columns})\n",
    "adata_obs.index = adata_X.columns\n",
    "\n",
    "# transpose to anndata format\n",
    "adata_X = adata_X.transpose()\n",
    "\n",
    "\n",
    "\n",
    "# remake anndata\n",
    "adata = ad.AnnData(adata_X, obs=adata_obs, var=adata_var)\n",
    "adata\n"
   ]
  },
  {
   "cell_type": "markdown",
   "metadata": {},
   "source": [
    "# Get promoter regions from TCGA and recount fragments\n"
   ]
  },
  {
   "cell_type": "code",
   "execution_count": 6,
   "metadata": {},
   "outputs": [
    {
     "name": "stderr",
     "output_type": "stream",
     "text": [
      "[W::hts_idx_load3] The index file is older than the data file: /home/natalie/projects/checkouts/buddi_atac/buddi_atac/preprocessing_qc/../data//cfDNA/EE86257.hg38.frag_filt_format_bgzip.tsv.gz.tbi\n",
      "[W::hts_idx_load3] The index file is older than the data file: /home/natalie/projects/checkouts/buddi_atac/buddi_atac/preprocessing_qc/../data//cfDNA/EE86257.hg38.frag_filt_format_bgzip.tsv.gz.tbi\n",
      "  0%|          | 0/45782 [00:00<?, ?it/s]"
     ]
    },
    {
     "name": "stderr",
     "output_type": "stream",
     "text": [
      "100%|██████████| 45782/45782 [00:19<00:00, 2307.21it/s]\n",
      "/home/natalie/projects/checkouts/buddi_atac/.venv/lib/python3.10/site-packages/muon/_atac/tools.py:867: FutureWarning: X.dtype being converted to np.float32 from int64. In the next version of anndata (0.9) conversion will not be automatic. Pass dtype explicitly to avoid this warning. Pass `AnnData(X, dtype=X.dtype, ...)` to get the future behavour.\n",
      "  return AnnData(X=mx, obs=adata.obs, var=features)\n"
     ]
    }
   ],
   "source": [
    "# get fragments file\n",
    "mu.atac.tl.locate_fragments(adata, frag_path)\n",
    "counts_cfdna = mu.atac.tl.count_fragments_features(adata, region_df)\n",
    "\n",
    "counts_cfdna.var['gene_ids'] = counts_cfdna.var.Chromosome.astype(str) + \":\" + counts_cfdna.var.Start.astype(str)  + \"-\" +  counts_cfdna.var.End.astype(str)\n"
   ]
  },
  {
   "cell_type": "code",
   "execution_count": 7,
   "metadata": {},
   "outputs": [
    {
     "data": {
      "text/html": [
       "<div>\n",
       "<style scoped>\n",
       "    .dataframe tbody tr th:only-of-type {\n",
       "        vertical-align: middle;\n",
       "    }\n",
       "\n",
       "    .dataframe tbody tr th {\n",
       "        vertical-align: top;\n",
       "    }\n",
       "\n",
       "    .dataframe thead th {\n",
       "        text-align: right;\n",
       "    }\n",
       "</style>\n",
       "<table border=\"1\" class=\"dataframe\">\n",
       "  <thead>\n",
       "    <tr style=\"text-align: right;\">\n",
       "      <th></th>\n",
       "      <th>Chromosome</th>\n",
       "      <th>Start</th>\n",
       "      <th>End</th>\n",
       "      <th>gene_ids</th>\n",
       "    </tr>\n",
       "  </thead>\n",
       "  <tbody>\n",
       "    <tr>\n",
       "      <th>0</th>\n",
       "      <td>chr1</td>\n",
       "      <td>17238</td>\n",
       "      <td>17739</td>\n",
       "      <td>chr1:17238-17739</td>\n",
       "    </tr>\n",
       "    <tr>\n",
       "      <th>20</th>\n",
       "      <td>chr1</td>\n",
       "      <td>817118</td>\n",
       "      <td>817619</td>\n",
       "      <td>chr1:817118-817619</td>\n",
       "    </tr>\n",
       "    <tr>\n",
       "      <th>24</th>\n",
       "      <td>chr1</td>\n",
       "      <td>826524</td>\n",
       "      <td>827025</td>\n",
       "      <td>chr1:826524-827025</td>\n",
       "    </tr>\n",
       "    <tr>\n",
       "      <th>25</th>\n",
       "      <td>chr1</td>\n",
       "      <td>827303</td>\n",
       "      <td>827804</td>\n",
       "      <td>chr1:827303-827804</td>\n",
       "    </tr>\n",
       "    <tr>\n",
       "      <th>26</th>\n",
       "      <td>chr1</td>\n",
       "      <td>830679</td>\n",
       "      <td>831180</td>\n",
       "      <td>chr1:830679-831180</td>\n",
       "    </tr>\n",
       "    <tr>\n",
       "      <th>...</th>\n",
       "      <td>...</td>\n",
       "      <td>...</td>\n",
       "      <td>...</td>\n",
       "      <td>...</td>\n",
       "    </tr>\n",
       "    <tr>\n",
       "      <th>562680</th>\n",
       "      <td>chrX</td>\n",
       "      <td>155767443</td>\n",
       "      <td>155767944</td>\n",
       "      <td>chrX:155767443-155767944</td>\n",
       "    </tr>\n",
       "    <tr>\n",
       "      <th>562686</th>\n",
       "      <td>chrX</td>\n",
       "      <td>155880523</td>\n",
       "      <td>155881024</td>\n",
       "      <td>chrX:155880523-155881024</td>\n",
       "    </tr>\n",
       "    <tr>\n",
       "      <th>562687</th>\n",
       "      <td>chrX</td>\n",
       "      <td>155881036</td>\n",
       "      <td>155881537</td>\n",
       "      <td>chrX:155881036-155881537</td>\n",
       "    </tr>\n",
       "    <tr>\n",
       "      <th>562703</th>\n",
       "      <td>chrX</td>\n",
       "      <td>156003787</td>\n",
       "      <td>156004288</td>\n",
       "      <td>chrX:156003787-156004288</td>\n",
       "    </tr>\n",
       "    <tr>\n",
       "      <th>562704</th>\n",
       "      <td>chrX</td>\n",
       "      <td>156005167</td>\n",
       "      <td>156005668</td>\n",
       "      <td>chrX:156005167-156005668</td>\n",
       "    </tr>\n",
       "  </tbody>\n",
       "</table>\n",
       "<p>45782 rows × 4 columns</p>\n",
       "</div>"
      ],
      "text/plain": [
       "       Chromosome      Start        End                  gene_ids\n",
       "0            chr1      17238      17739          chr1:17238-17739\n",
       "20           chr1     817118     817619        chr1:817118-817619\n",
       "24           chr1     826524     827025        chr1:826524-827025\n",
       "25           chr1     827303     827804        chr1:827303-827804\n",
       "26           chr1     830679     831180        chr1:830679-831180\n",
       "...           ...        ...        ...                       ...\n",
       "562680       chrX  155767443  155767944  chrX:155767443-155767944\n",
       "562686       chrX  155880523  155881024  chrX:155880523-155881024\n",
       "562687       chrX  155881036  155881537  chrX:155881036-155881537\n",
       "562703       chrX  156003787  156004288  chrX:156003787-156004288\n",
       "562704       chrX  156005167  156005668  chrX:156005167-156005668\n",
       "\n",
       "[45782 rows x 4 columns]"
      ]
     },
     "execution_count": 7,
     "metadata": {},
     "output_type": "execute_result"
    }
   ],
   "source": [
    "counts_cfdna.var"
   ]
  },
  {
   "cell_type": "code",
   "execution_count": 8,
   "metadata": {},
   "outputs": [
    {
     "data": {
      "text/html": [
       "<div>\n",
       "<style scoped>\n",
       "    .dataframe tbody tr th:only-of-type {\n",
       "        vertical-align: middle;\n",
       "    }\n",
       "\n",
       "    .dataframe tbody tr th {\n",
       "        vertical-align: top;\n",
       "    }\n",
       "\n",
       "    .dataframe thead th {\n",
       "        text-align: right;\n",
       "    }\n",
       "</style>\n",
       "<table border=\"1\" class=\"dataframe\">\n",
       "  <thead>\n",
       "    <tr style=\"text-align: right;\">\n",
       "      <th></th>\n",
       "      <th>sample_id</th>\n",
       "    </tr>\n",
       "  </thead>\n",
       "  <tbody>\n",
       "    <tr>\n",
       "      <th>BRCA_IC35</th>\n",
       "      <td>BRCA_IC35</td>\n",
       "    </tr>\n",
       "  </tbody>\n",
       "</table>\n",
       "</div>"
      ],
      "text/plain": [
       "           sample_id\n",
       "BRCA_IC35  BRCA_IC35"
      ]
     },
     "execution_count": 8,
     "metadata": {},
     "output_type": "execute_result"
    }
   ],
   "source": [
    "counts_cfdna.obs"
   ]
  },
  {
   "cell_type": "code",
   "execution_count": 9,
   "metadata": {},
   "outputs": [
    {
     "data": {
      "text/plain": [
       "<1x45782 sparse matrix of type '<class 'numpy.float32'>'\n",
       "\twith 34794 stored elements in Compressed Sparse Column format>"
      ]
     },
     "execution_count": 9,
     "metadata": {},
     "output_type": "execute_result"
    }
   ],
   "source": [
    "counts_cfdna.X"
   ]
  },
  {
   "cell_type": "markdown",
   "metadata": {},
   "source": [
    "# Write out"
   ]
  },
  {
   "cell_type": "code",
   "execution_count": 10,
   "metadata": {},
   "outputs": [],
   "source": [
    "counts_cfdna.write_h5ad(results_file)"
   ]
  }
 ],
 "metadata": {
  "kernelspec": {
   "display_name": ".venv",
   "language": "python",
   "name": "python3"
  },
  "language_info": {
   "codemirror_mode": {
    "name": "ipython",
    "version": 3
   },
   "file_extension": ".py",
   "mimetype": "text/x-python",
   "name": "python",
   "nbconvert_exporter": "python",
   "pygments_lexer": "ipython3",
   "version": "3.10.12"
  }
 },
 "nbformat": 4,
 "nbformat_minor": 2
}
