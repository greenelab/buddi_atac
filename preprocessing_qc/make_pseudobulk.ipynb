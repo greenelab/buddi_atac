{
 "cells": [
  {
   "cell_type": "markdown",
   "metadata": {},
   "source": [
    "# Make pseudobulks\n",
    "\n",
    "For each cancer sample we will add it to a pseudobulk make of single-cell ATAC-Seq from blood.\n",
    "To do the titration analysis, we will do pseudobulks of different number of blood cells used.\n",
    "\n",
    "\n",
    "Percentage is calculated as the proportion of total counts per sample coming from each source\n",
    "\n",
    "\n",
    "100 cells = 9% blood\n",
    "\n",
    "500 cells = 30% blood \n",
    "\n",
    "1000 cells = 50% blood \n",
    "\n",
    "5000 cells = 80% blood \n"
   ]
  },
  {
   "cell_type": "code",
   "execution_count": 1,
   "metadata": {},
   "outputs": [
    {
     "name": "stderr",
     "output_type": "stream",
     "text": [
      "2024-04-18 14:23:07.130727: I tensorflow/core/util/port.cc:110] oneDNN custom operations are on. You may see slightly different numerical results due to floating-point round-off errors from different computation orders. To turn them off, set the environment variable `TF_ENABLE_ONEDNN_OPTS=0`.\n",
      "2024-04-18 14:23:07.131790: I tensorflow/tsl/cuda/cudart_stub.cc:28] Could not find cuda drivers on your machine, GPU will not be used.\n",
      "2024-04-18 14:23:07.153606: I tensorflow/tsl/cuda/cudart_stub.cc:28] Could not find cuda drivers on your machine, GPU will not be used.\n",
      "2024-04-18 14:23:07.154275: I tensorflow/core/platform/cpu_feature_guard.cc:182] This TensorFlow binary is optimized to use available CPU instructions in performance-critical operations.\n",
      "To enable the following instructions: AVX2 AVX512F AVX512_VNNI AVX512_BF16 FMA, in other operations, rebuild TensorFlow with the appropriate compiler flags.\n",
      "2024-04-18 14:23:07.524191: W tensorflow/compiler/tf2tensorrt/utils/py_utils.cc:38] TF-TRT Warning: Could not find TensorRT\n"
     ]
    }
   ],
   "source": [
    "import sys\n",
    "sys.path.insert(1, '../../')\n",
    "sys.path.insert(1, '../')\n",
    "from buddi import buddi\n",
    "from buddi.preprocessing import sc_preprocess\n",
    "\n",
    "# general imports\n",
    "import numpy as np\n",
    "import os\n",
    "import pandas as pd\n",
    "import scanpy as sc\n",
    "import anndata as ad\n",
    "\n",
    "\n",
    "# Images, plots, display, and visualization\n",
    "import pandas as pd\n",
    "\n",
    "# matplotlib settings for Jupyter notebooks only\n",
    "%matplotlib inline\n",
    "\n",
    "import pickle\n",
    "from pathlib import Path\n"
   ]
  },
  {
   "cell_type": "markdown",
   "metadata": {},
   "source": [
    "# Parameters"
   ]
  },
  {
   "cell_type": "code",
   "execution_count": 2,
   "metadata": {},
   "outputs": [],
   "source": [
    "# parameters\n",
    "data_path = f\"{os.getcwd()}/../data/\"\n",
    "\n",
    "aug_data_path = f\"{data_path}/pseudobulks/\"\n",
    "\n",
    "\n",
    "\n",
    "#####################\n",
    "### set the study ###\n",
    "#####################\n",
    "\n",
    "res_name = \"all-tcga\"\n",
    "tcga_file = f\"{data_path}/TCGA/tcga_atac_promoters.h5ad\"\n",
    "pbmc_file = f\"{data_path}/PBMC/pbmc10k_processed.h5ad\"\n",
    "\n"
   ]
  },
  {
   "cell_type": "code",
   "execution_count": 3,
   "metadata": {},
   "outputs": [],
   "source": [
    "# set paths\n",
    "\n",
    "\n",
    "\n",
    "# get TCGA\n",
    "tcga_adata = ad.read_h5ad(tcga_file)\n",
    "\n",
    "# get blood PBMC\n",
    "pbmc_adata = ad.read_h5ad(pbmc_file)"
   ]
  },
  {
   "cell_type": "markdown",
   "metadata": {},
   "source": [
    "# rescale\n",
    "\n",
    "Since we are combining single cell and atac, we need to make sure that we are on and expected scaling"
   ]
  },
  {
   "cell_type": "code",
   "execution_count": 4,
   "metadata": {},
   "outputs": [
    {
     "data": {
      "text/plain": [
       "20694.5"
      ]
     },
     "execution_count": 4,
     "metadata": {},
     "output_type": "execute_result"
    }
   ],
   "source": [
    "# get the median sum for each single cell blood \n",
    "np.median([np.sum(pbmc_adata.X[idx]) for idx in np.random.choice(pbmc_adata.X.shape[0], 1000) ])"
   ]
  },
  {
   "cell_type": "code",
   "execution_count": 5,
   "metadata": {},
   "outputs": [
    {
     "data": {
      "text/plain": [
       "5669622.0"
      ]
     },
     "execution_count": 5,
     "metadata": {},
     "output_type": "execute_result"
    }
   ],
   "source": [
    "# get the median sum for each tcga sample\n",
    "np.median([np.sum(tcga_adata.X[idx]) for idx in range(tcga_adata.X.shape[0])])"
   ]
  },
  {
   "cell_type": "code",
   "execution_count": 6,
   "metadata": {},
   "outputs": [],
   "source": [
    "# now we normalize the sums so that TCGA is 1000 times larger than single cell\n",
    "sc.pp.normalize_total(tcga_adata, target_sum=1e7) \n",
    "sc.pp.normalize_total(pbmc_adata, target_sum=1e4)"
   ]
  },
  {
   "cell_type": "markdown",
   "metadata": {},
   "source": [
    "# pseudobulks\n",
    "\n",
    "We will do 4 experiments, 50, 100, 500, 1000 cells used to make blood pseudobulks.\n",
    "\n",
    "In each of these experiments we will use 10 samples.\n",
    "\n",
    "In all of those 10 samples, we will add one of the tcga samples.\n",
    "\n",
    "21000 pseudobulks total: 4x10x525"
   ]
  },
  {
   "cell_type": "code",
   "execution_count": 7,
   "metadata": {},
   "outputs": [
    {
     "data": {
      "text/plain": [
       "AnnData object with n_obs × n_vars = 525 × 45782\n",
       "    obs: 'sample_id', 'scpred_CellType'\n",
       "    var: 'seqnames', 'start', 'end', 'name', 'score', 'annotation'"
      ]
     },
     "execution_count": 7,
     "metadata": {},
     "output_type": "execute_result"
    }
   ],
   "source": [
    "tcga_adata"
   ]
  },
  {
   "cell_type": "code",
   "execution_count": 8,
   "metadata": {},
   "outputs": [
    {
     "data": {
      "text/plain": [
       "BRCA      141\n",
       "KIDNEY    100\n",
       "COAD       81\n",
       "LUNG       76\n",
       "PRAD       52\n",
       "STAD       41\n",
       "LIHC       34\n",
       "Name: scpred_CellType, dtype: int64"
      ]
     },
     "execution_count": 8,
     "metadata": {},
     "output_type": "execute_result"
    }
   ],
   "source": [
    "tcga_adata.obs.scpred_CellType.value_counts()"
   ]
  },
  {
   "cell_type": "code",
   "execution_count": 9,
   "metadata": {},
   "outputs": [
    {
     "data": {
      "text/plain": [
       "525"
      ]
     },
     "execution_count": 9,
     "metadata": {},
     "output_type": "execute_result"
    }
   ],
   "source": [
    "tcga_adata.obs.shape[0]"
   ]
  },
  {
   "cell_type": "markdown",
   "metadata": {},
   "source": [
    "### train / test split\n",
    "\n",
    "Split first the PBMCs, then TCGA"
   ]
  },
  {
   "cell_type": "code",
   "execution_count": 10,
   "metadata": {},
   "outputs": [
    {
     "name": "stderr",
     "output_type": "stream",
     "text": [
      "/tmp/ipykernel_1781024/2715567430.py:12: SettingWithCopyWarning: \n",
      "A value is trying to be set on a copy of a slice from a DataFrame\n",
      "\n",
      "See the caveats in the documentation: https://pandas.pydata.org/pandas-docs/stable/user_guide/indexing.html#returning-a-view-versus-a-copy\n",
      "  pbmc_adata.obs[\"isTraining\"][test_idx] = \"Test\"\n"
     ]
    }
   ],
   "source": [
    "### now split test and train pbmc cells\n",
    "# generate cell-type specific split\n",
    "pbmc_adata.obs[\"isTraining\"] = \"Train\"\n",
    "pbmc_adata.obs[\"test_train_key\"] = pbmc_adata.obs[\"scpred_CellType\"].astype(str)\n",
    "\n",
    "# for each element in the key\n",
    "# split by 50%\n",
    "for curr_key in pbmc_adata.obs[\"test_train_key\"].unique():\n",
    "  curr_idx = np.where(pbmc_adata.obs[\"test_train_key\"] == curr_key)[0]\n",
    "  num_sample = np.floor(len(curr_idx)/2).astype(int)\n",
    "  test_idx = np.random.choice(curr_idx, num_sample)\n",
    "  pbmc_adata.obs[\"isTraining\"][test_idx] = \"Test\"\n",
    "pd.set_option('display.max_rows', 160)\n"
   ]
  },
  {
   "cell_type": "code",
   "execution_count": 11,
   "metadata": {},
   "outputs": [
    {
     "data": {
      "text/html": [
       "<div>\n",
       "<style scoped>\n",
       "    .dataframe tbody tr th:only-of-type {\n",
       "        vertical-align: middle;\n",
       "    }\n",
       "\n",
       "    .dataframe tbody tr th {\n",
       "        vertical-align: top;\n",
       "    }\n",
       "\n",
       "    .dataframe thead th {\n",
       "        text-align: right;\n",
       "    }\n",
       "</style>\n",
       "<table border=\"1\" class=\"dataframe\">\n",
       "  <thead>\n",
       "    <tr style=\"text-align: right;\">\n",
       "      <th>isTraining</th>\n",
       "      <th>Test</th>\n",
       "      <th>Train</th>\n",
       "    </tr>\n",
       "    <tr>\n",
       "      <th>test_train_key</th>\n",
       "      <th></th>\n",
       "      <th></th>\n",
       "    </tr>\n",
       "  </thead>\n",
       "  <tbody>\n",
       "    <tr>\n",
       "      <th>CD14 mono</th>\n",
       "      <td>713</td>\n",
       "      <td>1107</td>\n",
       "    </tr>\n",
       "    <tr>\n",
       "      <th>CD16 mono</th>\n",
       "      <td>183</td>\n",
       "      <td>273</td>\n",
       "    </tr>\n",
       "    <tr>\n",
       "      <th>CD4+ memory T</th>\n",
       "      <td>703</td>\n",
       "      <td>1057</td>\n",
       "    </tr>\n",
       "    <tr>\n",
       "      <th>CD4+ naïve T</th>\n",
       "      <td>624</td>\n",
       "      <td>986</td>\n",
       "    </tr>\n",
       "    <tr>\n",
       "      <th>CD8+ activated T</th>\n",
       "      <td>323</td>\n",
       "      <td>498</td>\n",
       "    </tr>\n",
       "    <tr>\n",
       "      <th>CD8+ naïve T</th>\n",
       "      <td>603</td>\n",
       "      <td>898</td>\n",
       "    </tr>\n",
       "    <tr>\n",
       "      <th>MAIT</th>\n",
       "      <td>49</td>\n",
       "      <td>76</td>\n",
       "    </tr>\n",
       "    <tr>\n",
       "      <th>NK</th>\n",
       "      <td>204</td>\n",
       "      <td>345</td>\n",
       "    </tr>\n",
       "    <tr>\n",
       "      <th>intermediate mono</th>\n",
       "      <td>417</td>\n",
       "      <td>638</td>\n",
       "    </tr>\n",
       "    <tr>\n",
       "      <th>mDC</th>\n",
       "      <td>69</td>\n",
       "      <td>126</td>\n",
       "    </tr>\n",
       "    <tr>\n",
       "      <th>memory B</th>\n",
       "      <td>228</td>\n",
       "      <td>349</td>\n",
       "    </tr>\n",
       "    <tr>\n",
       "      <th>naïve B</th>\n",
       "      <td>125</td>\n",
       "      <td>206</td>\n",
       "    </tr>\n",
       "    <tr>\n",
       "      <th>pDC</th>\n",
       "      <td>47</td>\n",
       "      <td>69</td>\n",
       "    </tr>\n",
       "  </tbody>\n",
       "</table>\n",
       "</div>"
      ],
      "text/plain": [
       "isTraining         Test  Train\n",
       "test_train_key                \n",
       "CD14 mono           713   1107\n",
       "CD16 mono           183    273\n",
       "CD4+ memory T       703   1057\n",
       "CD4+ naïve T        624    986\n",
       "CD8+ activated T    323    498\n",
       "CD8+ naïve T        603    898\n",
       "MAIT                 49     76\n",
       "NK                  204    345\n",
       "intermediate mono   417    638\n",
       "mDC                  69    126\n",
       "memory B            228    349\n",
       "naïve B             125    206\n",
       "pDC                  47     69"
      ]
     },
     "execution_count": 11,
     "metadata": {},
     "output_type": "execute_result"
    }
   ],
   "source": [
    "\n",
    "tab = pbmc_adata.obs.groupby(['test_train_key', 'isTraining']).size()\n",
    "\n",
    "tab.unstack()\n"
   ]
  },
  {
   "cell_type": "code",
   "execution_count": 12,
   "metadata": {},
   "outputs": [
    {
     "name": "stderr",
     "output_type": "stream",
     "text": [
      "/tmp/ipykernel_1781024/3382582093.py:13: SettingWithCopyWarning: \n",
      "A value is trying to be set on a copy of a slice from a DataFrame\n",
      "\n",
      "See the caveats in the documentation: https://pandas.pydata.org/pandas-docs/stable/user_guide/indexing.html#returning-a-view-versus-a-copy\n",
      "  tcga_adata.obs[\"isTraining\"][test_idx] = \"Test\"\n"
     ]
    }
   ],
   "source": [
    "### now split test and train TCGA samples\n",
    "\n",
    "# generate cell-type specific split\n",
    "tcga_adata.obs[\"isTraining\"] = \"Train\"\n",
    "tcga_adata.obs[\"test_train_key\"] = tcga_adata.obs[\"scpred_CellType\"].astype(str)\n",
    "\n",
    "# for each element in the key\n",
    "# split by 50%\n",
    "for curr_key in tcga_adata.obs[\"test_train_key\"].unique():\n",
    "  curr_idx = np.where(tcga_adata.obs[\"test_train_key\"] == curr_key)[0]\n",
    "  num_sample = np.floor(len(curr_idx)/2).astype(int)\n",
    "  test_idx = np.random.choice(curr_idx, num_sample)\n",
    "  tcga_adata.obs[\"isTraining\"][test_idx] = \"Test\"\n",
    "pd.set_option('display.max_rows', 160)\n"
   ]
  },
  {
   "cell_type": "code",
   "execution_count": 13,
   "metadata": {},
   "outputs": [
    {
     "data": {
      "text/html": [
       "<div>\n",
       "<style scoped>\n",
       "    .dataframe tbody tr th:only-of-type {\n",
       "        vertical-align: middle;\n",
       "    }\n",
       "\n",
       "    .dataframe tbody tr th {\n",
       "        vertical-align: top;\n",
       "    }\n",
       "\n",
       "    .dataframe thead th {\n",
       "        text-align: right;\n",
       "    }\n",
       "</style>\n",
       "<table border=\"1\" class=\"dataframe\">\n",
       "  <thead>\n",
       "    <tr style=\"text-align: right;\">\n",
       "      <th>isTraining</th>\n",
       "      <th>Test</th>\n",
       "      <th>Train</th>\n",
       "    </tr>\n",
       "    <tr>\n",
       "      <th>test_train_key</th>\n",
       "      <th></th>\n",
       "      <th></th>\n",
       "    </tr>\n",
       "  </thead>\n",
       "  <tbody>\n",
       "    <tr>\n",
       "      <th>BRCA</th>\n",
       "      <td>52</td>\n",
       "      <td>89</td>\n",
       "    </tr>\n",
       "    <tr>\n",
       "      <th>COAD</th>\n",
       "      <td>28</td>\n",
       "      <td>53</td>\n",
       "    </tr>\n",
       "    <tr>\n",
       "      <th>KIDNEY</th>\n",
       "      <td>40</td>\n",
       "      <td>60</td>\n",
       "    </tr>\n",
       "    <tr>\n",
       "      <th>LIHC</th>\n",
       "      <td>14</td>\n",
       "      <td>20</td>\n",
       "    </tr>\n",
       "    <tr>\n",
       "      <th>LUNG</th>\n",
       "      <td>29</td>\n",
       "      <td>47</td>\n",
       "    </tr>\n",
       "    <tr>\n",
       "      <th>PRAD</th>\n",
       "      <td>21</td>\n",
       "      <td>31</td>\n",
       "    </tr>\n",
       "    <tr>\n",
       "      <th>STAD</th>\n",
       "      <td>16</td>\n",
       "      <td>25</td>\n",
       "    </tr>\n",
       "  </tbody>\n",
       "</table>\n",
       "</div>"
      ],
      "text/plain": [
       "isTraining      Test  Train\n",
       "test_train_key             \n",
       "BRCA              52     89\n",
       "COAD              28     53\n",
       "KIDNEY            40     60\n",
       "LIHC              14     20\n",
       "LUNG              29     47\n",
       "PRAD              21     31\n",
       "STAD              16     25"
      ]
     },
     "execution_count": 13,
     "metadata": {},
     "output_type": "execute_result"
    }
   ],
   "source": [
    "\n",
    "tab = tcga_adata.obs.groupby(['test_train_key', 'isTraining']).size()\n",
    "\n",
    "tab.unstack()\n"
   ]
  },
  {
   "cell_type": "markdown",
   "metadata": {},
   "source": [
    "### now really make the pseudobulks"
   ]
  },
  {
   "cell_type": "code",
   "execution_count": 14,
   "metadata": {},
   "outputs": [
    {
     "data": {
      "text/plain": [
       "True"
      ]
     },
     "execution_count": 14,
     "metadata": {},
     "output_type": "execute_result"
    }
   ],
   "source": [
    "# double check we have the same regions and they are in the same order\n",
    "\n",
    "np.all(tcga_adata.var.index == pbmc_adata.var.index)"
   ]
  },
  {
   "cell_type": "code",
   "execution_count": 15,
   "metadata": {},
   "outputs": [
    {
     "data": {
      "text/html": [
       "<div>\n",
       "<style scoped>\n",
       "    .dataframe tbody tr th:only-of-type {\n",
       "        vertical-align: middle;\n",
       "    }\n",
       "\n",
       "    .dataframe tbody tr th {\n",
       "        vertical-align: top;\n",
       "    }\n",
       "\n",
       "    .dataframe thead th {\n",
       "        text-align: right;\n",
       "    }\n",
       "</style>\n",
       "<table border=\"1\" class=\"dataframe\">\n",
       "  <thead>\n",
       "    <tr style=\"text-align: right;\">\n",
       "      <th></th>\n",
       "      <th>sample_id</th>\n",
       "      <th>scpred_CellType</th>\n",
       "      <th>isTraining</th>\n",
       "      <th>test_train_key</th>\n",
       "    </tr>\n",
       "  </thead>\n",
       "  <tbody>\n",
       "    <tr>\n",
       "      <th>BRCA_000CFD9F_ADDF_4304_9E60_6041549E189C_X017_S06_L011_B1_T1_P040</th>\n",
       "      <td>BRCA_000CFD9F_ADDF_4304_9E60_6041549E189C_X017...</td>\n",
       "      <td>BRCA</td>\n",
       "      <td>Train</td>\n",
       "      <td>BRCA</td>\n",
       "    </tr>\n",
       "    <tr>\n",
       "      <th>BRCA_000CFD9F_ADDF_4304_9E60_6041549E189C_X017_S06_L012_B1_T2_P046</th>\n",
       "      <td>BRCA_000CFD9F_ADDF_4304_9E60_6041549E189C_X017...</td>\n",
       "      <td>BRCA</td>\n",
       "      <td>Train</td>\n",
       "      <td>BRCA</td>\n",
       "    </tr>\n",
       "    <tr>\n",
       "      <th>BRCA_01112370_4F6F_4A20_9BE0_7975C3465268_X017_S04_L007_B1_T1_P042</th>\n",
       "      <td>BRCA_01112370_4F6F_4A20_9BE0_7975C3465268_X017...</td>\n",
       "      <td>BRCA</td>\n",
       "      <td>Test</td>\n",
       "      <td>BRCA</td>\n",
       "    </tr>\n",
       "    <tr>\n",
       "      <th>BRCA_01112370_4F6F_4A20_9BE0_7975C3465268_X017_S04_L008_B1_T2_P044</th>\n",
       "      <td>BRCA_01112370_4F6F_4A20_9BE0_7975C3465268_X017...</td>\n",
       "      <td>BRCA</td>\n",
       "      <td>Train</td>\n",
       "      <td>BRCA</td>\n",
       "    </tr>\n",
       "    <tr>\n",
       "      <th>BRCA_0142AAAC_FFE8_43B7_AB99_02F7A1740567_X022_S06_L057_B1_T1_P050</th>\n",
       "      <td>BRCA_0142AAAC_FFE8_43B7_AB99_02F7A1740567_X022...</td>\n",
       "      <td>BRCA</td>\n",
       "      <td>Train</td>\n",
       "      <td>BRCA</td>\n",
       "    </tr>\n",
       "    <tr>\n",
       "      <th>...</th>\n",
       "      <td>...</td>\n",
       "      <td>...</td>\n",
       "      <td>...</td>\n",
       "      <td>...</td>\n",
       "    </tr>\n",
       "    <tr>\n",
       "      <th>STAD_D8BEB0DD_C346_4C1D_8A5F_6E669453AE6D_X027_S09_L094_B1_T2_PMRG</th>\n",
       "      <td>STAD_D8BEB0DD_C346_4C1D_8A5F_6E669453AE6D_X027...</td>\n",
       "      <td>STAD</td>\n",
       "      <td>Train</td>\n",
       "      <td>STAD</td>\n",
       "    </tr>\n",
       "    <tr>\n",
       "      <th>STAD_E07AAE91_7A4F_4FDC_9D67_4FA1D4E6DD89_X024_S05_L011_B1_T1_P061</th>\n",
       "      <td>STAD_E07AAE91_7A4F_4FDC_9D67_4FA1D4E6DD89_X024...</td>\n",
       "      <td>STAD</td>\n",
       "      <td>Train</td>\n",
       "      <td>STAD</td>\n",
       "    </tr>\n",
       "    <tr>\n",
       "      <th>STAD_E07AAE91_7A4F_4FDC_9D67_4FA1D4E6DD89_X024_S05_L012_B1_T2_P069</th>\n",
       "      <td>STAD_E07AAE91_7A4F_4FDC_9D67_4FA1D4E6DD89_X024...</td>\n",
       "      <td>STAD</td>\n",
       "      <td>Test</td>\n",
       "      <td>STAD</td>\n",
       "    </tr>\n",
       "    <tr>\n",
       "      <th>STAD_EA9A5DB6_348F_41C4_ACCC_5717653ABD74_X032_S06_L080_B1_T1_P080</th>\n",
       "      <td>STAD_EA9A5DB6_348F_41C4_ACCC_5717653ABD74_X032...</td>\n",
       "      <td>STAD</td>\n",
       "      <td>Test</td>\n",
       "      <td>STAD</td>\n",
       "    </tr>\n",
       "    <tr>\n",
       "      <th>STAD_EA9A5DB6_348F_41C4_ACCC_5717653ABD74_X032_S06_L081_B1_T2_P083</th>\n",
       "      <td>STAD_EA9A5DB6_348F_41C4_ACCC_5717653ABD74_X032...</td>\n",
       "      <td>STAD</td>\n",
       "      <td>Train</td>\n",
       "      <td>STAD</td>\n",
       "    </tr>\n",
       "  </tbody>\n",
       "</table>\n",
       "<p>525 rows × 4 columns</p>\n",
       "</div>"
      ],
      "text/plain": [
       "                                                                                            sample_id  \\\n",
       "BRCA_000CFD9F_ADDF_4304_9E60_6041549E189C_X017_...  BRCA_000CFD9F_ADDF_4304_9E60_6041549E189C_X017...   \n",
       "BRCA_000CFD9F_ADDF_4304_9E60_6041549E189C_X017_...  BRCA_000CFD9F_ADDF_4304_9E60_6041549E189C_X017...   \n",
       "BRCA_01112370_4F6F_4A20_9BE0_7975C3465268_X017_...  BRCA_01112370_4F6F_4A20_9BE0_7975C3465268_X017...   \n",
       "BRCA_01112370_4F6F_4A20_9BE0_7975C3465268_X017_...  BRCA_01112370_4F6F_4A20_9BE0_7975C3465268_X017...   \n",
       "BRCA_0142AAAC_FFE8_43B7_AB99_02F7A1740567_X022_...  BRCA_0142AAAC_FFE8_43B7_AB99_02F7A1740567_X022...   \n",
       "...                                                                                               ...   \n",
       "STAD_D8BEB0DD_C346_4C1D_8A5F_6E669453AE6D_X027_...  STAD_D8BEB0DD_C346_4C1D_8A5F_6E669453AE6D_X027...   \n",
       "STAD_E07AAE91_7A4F_4FDC_9D67_4FA1D4E6DD89_X024_...  STAD_E07AAE91_7A4F_4FDC_9D67_4FA1D4E6DD89_X024...   \n",
       "STAD_E07AAE91_7A4F_4FDC_9D67_4FA1D4E6DD89_X024_...  STAD_E07AAE91_7A4F_4FDC_9D67_4FA1D4E6DD89_X024...   \n",
       "STAD_EA9A5DB6_348F_41C4_ACCC_5717653ABD74_X032_...  STAD_EA9A5DB6_348F_41C4_ACCC_5717653ABD74_X032...   \n",
       "STAD_EA9A5DB6_348F_41C4_ACCC_5717653ABD74_X032_...  STAD_EA9A5DB6_348F_41C4_ACCC_5717653ABD74_X032...   \n",
       "\n",
       "                                                   scpred_CellType isTraining  \\\n",
       "BRCA_000CFD9F_ADDF_4304_9E60_6041549E189C_X017_...            BRCA      Train   \n",
       "BRCA_000CFD9F_ADDF_4304_9E60_6041549E189C_X017_...            BRCA      Train   \n",
       "BRCA_01112370_4F6F_4A20_9BE0_7975C3465268_X017_...            BRCA       Test   \n",
       "BRCA_01112370_4F6F_4A20_9BE0_7975C3465268_X017_...            BRCA      Train   \n",
       "BRCA_0142AAAC_FFE8_43B7_AB99_02F7A1740567_X022_...            BRCA      Train   \n",
       "...                                                            ...        ...   \n",
       "STAD_D8BEB0DD_C346_4C1D_8A5F_6E669453AE6D_X027_...            STAD      Train   \n",
       "STAD_E07AAE91_7A4F_4FDC_9D67_4FA1D4E6DD89_X024_...            STAD      Train   \n",
       "STAD_E07AAE91_7A4F_4FDC_9D67_4FA1D4E6DD89_X024_...            STAD       Test   \n",
       "STAD_EA9A5DB6_348F_41C4_ACCC_5717653ABD74_X032_...            STAD       Test   \n",
       "STAD_EA9A5DB6_348F_41C4_ACCC_5717653ABD74_X032_...            STAD      Train   \n",
       "\n",
       "                                                   test_train_key  \n",
       "BRCA_000CFD9F_ADDF_4304_9E60_6041549E189C_X017_...           BRCA  \n",
       "BRCA_000CFD9F_ADDF_4304_9E60_6041549E189C_X017_...           BRCA  \n",
       "BRCA_01112370_4F6F_4A20_9BE0_7975C3465268_X017_...           BRCA  \n",
       "BRCA_01112370_4F6F_4A20_9BE0_7975C3465268_X017_...           BRCA  \n",
       "BRCA_0142AAAC_FFE8_43B7_AB99_02F7A1740567_X022_...           BRCA  \n",
       "...                                                           ...  \n",
       "STAD_D8BEB0DD_C346_4C1D_8A5F_6E669453AE6D_X027_...           STAD  \n",
       "STAD_E07AAE91_7A4F_4FDC_9D67_4FA1D4E6DD89_X024_...           STAD  \n",
       "STAD_E07AAE91_7A4F_4FDC_9D67_4FA1D4E6DD89_X024_...           STAD  \n",
       "STAD_EA9A5DB6_348F_41C4_ACCC_5717653ABD74_X032_...           STAD  \n",
       "STAD_EA9A5DB6_348F_41C4_ACCC_5717653ABD74_X032_...           STAD  \n",
       "\n",
       "[525 rows x 4 columns]"
      ]
     },
     "execution_count": 15,
     "metadata": {},
     "output_type": "execute_result"
    }
   ],
   "source": [
    "tcga_adata.obs"
   ]
  },
  {
   "cell_type": "code",
   "execution_count": 16,
   "metadata": {},
   "outputs": [
    {
     "name": "stdout",
     "output_type": "stream",
     "text": [
      "running 19000 Train\n",
      "make_prop_and_sum\n"
     ]
    },
    {
     "name": "stdout",
     "output_type": "stream",
     "text": [
      "0\n",
      "100\n",
      "200\n",
      "300\n",
      "400\n",
      "concat\n",
      "write\n",
      "running 99000 Train\n",
      "make_prop_and_sum\n",
      "0\n",
      "100\n",
      "200\n",
      "300\n",
      "400\n",
      "concat\n",
      "write\n",
      "running 99900 Train\n",
      "make_prop_and_sum\n",
      "0\n",
      "100\n",
      "200\n",
      "300\n",
      "400\n",
      "concat\n",
      "write\n",
      "running 19000 Test\n",
      "make_prop_and_sum\n",
      "0\n",
      "100\n",
      "200\n",
      "concat\n",
      "write\n",
      "running 99000 Test\n",
      "make_prop_and_sum\n",
      "0\n",
      "100\n",
      "200\n",
      "concat\n",
      "write\n",
      "running 99900 Test\n",
      "make_prop_and_sum\n",
      "0\n",
      "100\n",
      "200\n",
      "concat\n",
      "write\n"
     ]
    }
   ],
   "source": [
    "# write out the gene ids\n",
    "gene_pass = pbmc_adata.var['gene_ids']\n",
    "gene_out_file = os.path.join(aug_data_path, f\"{res_name}_genes.pkl\")\n",
    "gene_out_path = Path(gene_out_file)\n",
    "pickle.dump( gene_pass, open( gene_out_path, \"wb\" ) )\n",
    "\n",
    "# metadata\n",
    "\n",
    "train_order = ['Train', 'Test']\n",
    "\n",
    "# now generate all the proportions\n",
    "total_meta_df = pd.DataFrame(columns = [\"cancer_type\", \"num_cells\", \"isTraining\"])\n",
    "\n",
    "# no cell noise \n",
    "len_vector = pbmc_adata.obs[\"scpred_CellType\"].unique().shape[0]\n",
    "cell_noise = [np.random.lognormal(0, 0, pbmc_adata.var['gene_ids'].shape[0]) for i in range(len_vector)]\n",
    "\n",
    "# cell type order\n",
    "cell_order = pbmc_adata.obs.scpred_CellType.unique()\n",
    "\n",
    "# simulate different number of cells\n",
    "num_cells_vec = [100, 500, 1000, 5000, 5001]  # 5001 indicates that it should be ALL blood, using 5000 cells\n",
    "num_cells_vec = [19000, 99000, 99900]  # 5% 1% .1%\n",
    "idx = 0\n",
    "for curr_train in train_order:\n",
    "  pseudobulks_df_all = None\n",
    "  prop_df_all = None\n",
    "  metadata_df_all = None\n",
    "  \n",
    "  for curr_cells in num_cells_vec:\n",
    "\n",
    "    # get the TCGA samples based on Test/Train\n",
    "    curr_tcga_adata = tcga_adata[np.where(tcga_adata.obs.isTraining == curr_train)[0], :]\n",
    "\n",
    "    # get the PBMC cells based on Test / Train\n",
    "    curr_pbmc_adata = pbmc_adata[np.where(pbmc_adata.obs.isTraining == curr_train)[0], :]\n",
    "\n",
    "    # we add all TCGA samples to the pseudobulks\n",
    "    # but we will do this 10 times for replicates\n",
    "    #tcga_adata_10 = curr_tcga_adata.concatenate(curr_tcga_adata,\n",
    "    #                                  curr_tcga_adata)\n",
    "    tcga_adata_10 = curr_tcga_adata\n",
    "\n",
    "\n",
    "    print(f\"running {curr_cells} {curr_train}\")\n",
    "\n",
    "\n",
    "    # make the pseudobulks\n",
    "\n",
    "    print(\"make_prop_and_sum\")\n",
    "    prop_df, pseudobulks_df, _, _ = sc_preprocess.make_prop_and_sum(curr_pbmc_adata, \n",
    "                                                                    num_samples=tcga_adata_10.shape[0], \n",
    "                                                                    num_cells=curr_cells,\n",
    "                                                                    use_true_prop=False,\n",
    "                                                                    cell_noise=cell_noise,\n",
    "                                                                    useSampleNoise=False)\n",
    "\n",
    "    # add the TCGA sample to the pseudobulk\n",
    "    # UNLESS its 5001, this means 5000 cells, but NO TCGA\n",
    "    # this is our negative \n",
    "    if curr_cells != 5001:\n",
    "      pseudobulks_df = pseudobulks_df + tcga_adata_10.X\n",
    "\n",
    "    # make the metadata\n",
    "    num_samps = pseudobulks_df.shape[0] \n",
    "    samp_type = [\"bulk\"]*num_samps\n",
    "    \n",
    "    metadata_df = pd.DataFrame(data = {\"sample_id\":tcga_adata_10.obs.sample_id, \n",
    "                                      \"cancer_type\":tcga_adata_10.obs.scpred_CellType,\n",
    "                                      \"isTraining\":[curr_train]*num_samps,\n",
    "                                      \"num_blood\":[curr_cells]*num_samps})\n",
    "\n",
    "    # make the proportions instead of cell counts\n",
    "    prop_df = prop_df.div(prop_df.sum(axis=1), axis=0)\n",
    "\n",
    "\n",
    "    # put them together\n",
    "    print(\"concat\")    \n",
    "    if pseudobulks_df_all is None:\n",
    "      pseudobulks_df_all = pseudobulks_df\n",
    "      prop_df_all = prop_df\n",
    "      metadata_df_all = metadata_df\n",
    "    else:\n",
    "      prop_df_all = pd.concat([prop_df_all,prop_df])\n",
    "      pseudobulks_df_all = pd.concat([pseudobulks_df_all, pseudobulks_df])\n",
    "      metadata_df_all = pd.concat([metadata_df_all, metadata_df])\n",
    "\n",
    "\n",
    "    pseudobulk_file = os.path.join(aug_data_path, f\"{res_name}_{curr_cells}_STIM_{curr_train}_pseudo_splits.pkl\")\n",
    "    prop_file = os.path.join(aug_data_path, f\"{res_name}_{curr_cells}_STIM_{curr_train}_prop_splits.pkl\")\n",
    "    meta_file = os.path.join(aug_data_path, f\"{res_name}_{curr_cells}_STIM_{curr_train}_meta_splits.pkl\")\n",
    "    print(\"write\")        \n",
    "    pseudobulk_path = Path(pseudobulk_file)\n",
    "    prop_path = Path(prop_file)\n",
    "    meta_path = Path(meta_file)\n",
    "    pickle.dump( prop_df, open( prop_path, \"wb\" ) )\n",
    "    pickle.dump( pseudobulks_df, open( pseudobulk_path, \"wb\" ) )\n",
    "    pickle.dump( metadata_df, open( meta_path, \"wb\" ) )\n",
    "\n",
    "\n",
    "\n"
   ]
  }
 ],
 "metadata": {
  "kernelspec": {
   "display_name": ".venv",
   "language": "python",
   "name": "python3"
  },
  "language_info": {
   "codemirror_mode": {
    "name": "ipython",
    "version": 3
   },
   "file_extension": ".py",
   "mimetype": "text/x-python",
   "name": "python",
   "nbconvert_exporter": "python",
   "pygments_lexer": "ipython3",
   "version": "3.10.12"
  }
 },
 "nbformat": 4,
 "nbformat_minor": 2
}
